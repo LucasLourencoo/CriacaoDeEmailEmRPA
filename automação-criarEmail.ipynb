{
 "cells": [
  {
   "cell_type": "code",
   "execution_count": 1,
   "id": "3e14af71",
   "metadata": {},
   "outputs": [],
   "source": [
    "import pyautogui as pg\n",
    "import time as t\n",
    "import random"
   ]
  },
  {
   "cell_type": "code",
   "execution_count": 2,
   "id": "d735ebdb",
   "metadata": {},
   "outputs": [
    {
     "name": "stdout",
     "output_type": "stream",
     "text": [
      "20 20\n",
      "30\n"
     ]
    }
   ],
   "source": [
    "primeiro_nome = ['caua','cleiton','marcelo','matheus','rodrigo','gabriel','alexandra','larissa','laryssa','julia','juliana','lucas','jessyca','joão','pedro henrique', 'ricardo','elizangela','marco','thiago','jorge']\n",
    "segundo_nome = ['silveira','siqueira','gonçalves','fernandes','carvalho','rodrigues','barbosa','da silva',' monteiro','magalhaes','mendonça','pinheiro','andrade','jacommend','silvestre','silveira','martins','castro','montana','santana']\n",
    "digitos_reconhecimento = [1,5,9,3,7,4,6]\n",
    "print(len(primeiro_nome),len(segundo_nome))\n",
    "\n",
    "mensagens = ['O professor Lucas é muito bom! sempre atento a tirar minhas dúvidas',\n",
    "             'lucas é excelente em atender meus pedidos de ajuda! sempre presente kkkk',\n",
    "             'o educador lucas é muito bom na hora de explicar a matéria. muita gratidão por sua ajuda!',\n",
    "             'o pessoal da secrataria é incrível. queria agradecer ao professor lucas pelo ensinamento',\n",
    "             'Professor Lucas é muito bom! Sempre focado em tirar minhas dúvidas',\n",
    "             'Lucas fez um ótimo trabalho respondendo às minhas duvidas! Sempre presente kkkk',\n",
    "             'O educador Lucas é muito bom em explicar o assunto. Obrigado pela ajuda',\n",
    "             'A equipe da secretaria é ótima. Gostaria de agradecer ao professor Lucas por seus ensinamentos',\n",
    "             'a habilidade do professor lucas em explicar a matéria é de altíssima capacitação. Muito grato pelos ensinamentos!',\n",
    "             'Lucas como sempre muito atencioso, até menos o final do meu curso! tirando todas as dúvidas sobre programação',\n",
    "             'queria agradecer ao professor matheus e lucas. ambos muito atenciosos! lucas me ajudou do começo ao fim do curso com todas as dúvidas q eu tive! muito obrigado à microlins pelos excelentes profissionais!',\n",
    "             'O Professor Lucas é muito qualificado em sua capacidade de explicar sobre excel. Teve paciência até demais para lidar comigo kkkk',\n",
    "             'Professor Matheus e professor lucas são muito atenciosos! fico impressionado com suas gentilezas',\n",
    "             'A secretaria lidou sem problemas algum com o problema que tive com meu livro. Logo trataram de me emprestar outro até q o meu chegasse de fato!',\n",
    "             'apaixonado nos ensinamentos que foram passados neste curso! nota 100000 microlins',\n",
    "             'Pensei que teria problemas em aprender, mas Lucas me ajudou de demais',\n",
    "             'incríveis professores!',\n",
    "             'secretaria muito atenciosa e professores muito capacitados',\n",
    "             'Lucas foi muito atencioso como sempre até o final da minha aula! tirar todas as dúvidas sobre programação',\n",
    "             'Gostaria de agradecer ao professor mateus e Lucas. Ambos foram muito atenciosos! Lucas me ajudou com todas as minhas dúvidas do início ao fim! Muito obrigado aos maravilhosos profissionais da microlins!',\n",
    "             'Quero agradecer a toda equipe desse curso, professores, coordenadores, secretarias. Todos dispostos a ajudar a alcançar nossos objetivos',\n",
    "             'Excelente gestão, todos muito capacitados.',\n",
    "             'Me senti muito percentida a este curso. Meu professor lucas foi incrível em todos os momentos.',\n",
    "             'desde quando cheguei à microlins, fui muito bem atendido! queria deixar meus agradecimentos.',\n",
    "             'frequentei outras microlins, mas essa é a melhor',\n",
    "             'excelente!',\n",
    "             'incrível os funcionários deste curso!',\n",
    "             'escola incrível!',\n",
    "             'maravilhosos funcionários!',\n",
    "             'Lucas me ajudou com problemas que eu estava tendo no excel da empresa! gratidão!',\n",
    "             \n",
    "             \n",
    "             \n",
    "             ]\n",
    "print(len(mensagens))\n"
   ]
  },
  {
   "cell_type": "code",
   "execution_count": 4,
   "id": "31f9fdcb",
   "metadata": {},
   "outputs": [
    {
     "ename": "KeyboardInterrupt",
     "evalue": "",
     "output_type": "error",
     "traceback": [
      "\u001b[1;31m---------------------------------------------------------------------------\u001b[0m",
      "\u001b[1;31mKeyboardInterrupt\u001b[0m                         Traceback (most recent call last)",
      "\u001b[1;32mc:\\Users\\lucas\\OneDrive\\Documentos\\#Lucas\\Codes\\Python OR Jupyter Notebook\\Projetos Gerais\\Projeto - Criação de Email com RPA\\automação-criarEmail.ipynb Célula: 3\u001b[0m in \u001b[0;36m<cell line: 16>\u001b[1;34m()\u001b[0m\n\u001b[0;32m     <a href='vscode-notebook-cell:/c%3A/Users/lucas/OneDrive/Documentos/%23Lucas/Codes/Python%20OR%20Jupyter%20Notebook/Projetos%20Gerais/Projeto%20-%20Cria%C3%A7%C3%A3o%20de%20Email%20com%20RPA/automa%C3%A7%C3%A3o-criarEmail.ipynb#W4sZmlsZQ%3D%3D?line=50'>51</a>\u001b[0m item \u001b[39m=\u001b[39m pg\u001b[39m.\u001b[39mlocateOnScreen(\u001b[39m'\u001b[39m\u001b[39mcriarumaconta.png\u001b[39m\u001b[39m'\u001b[39m, confidence\u001b[39m=\u001b[39m\u001b[39m0.7\u001b[39m)\n\u001b[0;32m     <a href='vscode-notebook-cell:/c%3A/Users/lucas/OneDrive/Documentos/%23Lucas/Codes/Python%20OR%20Jupyter%20Notebook/Projetos%20Gerais/Projeto%20-%20Cria%C3%A7%C3%A3o%20de%20Email%20com%20RPA/automa%C3%A7%C3%A3o-criarEmail.ipynb#W4sZmlsZQ%3D%3D?line=51'>52</a>\u001b[0m \u001b[39mwhile\u001b[39;00m \u001b[39mnot\u001b[39;00m item:\n\u001b[1;32m---> <a href='vscode-notebook-cell:/c%3A/Users/lucas/OneDrive/Documentos/%23Lucas/Codes/Python%20OR%20Jupyter%20Notebook/Projetos%20Gerais/Projeto%20-%20Cria%C3%A7%C3%A3o%20de%20Email%20com%20RPA/automa%C3%A7%C3%A3o-criarEmail.ipynb#W4sZmlsZQ%3D%3D?line=52'>53</a>\u001b[0m     t\u001b[39m.\u001b[39;49msleep(\u001b[39m0.5\u001b[39;49m)    \n\u001b[0;32m     <a href='vscode-notebook-cell:/c%3A/Users/lucas/OneDrive/Documentos/%23Lucas/Codes/Python%20OR%20Jupyter%20Notebook/Projetos%20Gerais/Projeto%20-%20Cria%C3%A7%C3%A3o%20de%20Email%20com%20RPA/automa%C3%A7%C3%A3o-criarEmail.ipynb#W4sZmlsZQ%3D%3D?line=53'>54</a>\u001b[0m x,y,largura,altura \u001b[39m=\u001b[39m item\n\u001b[0;32m     <a href='vscode-notebook-cell:/c%3A/Users/lucas/OneDrive/Documentos/%23Lucas/Codes/Python%20OR%20Jupyter%20Notebook/Projetos%20Gerais/Projeto%20-%20Cria%C3%A7%C3%A3o%20de%20Email%20com%20RPA/automa%C3%A7%C3%A3o-criarEmail.ipynb#W4sZmlsZQ%3D%3D?line=54'>55</a>\u001b[0m clicar_meio()\n",
      "\u001b[1;31mKeyboardInterrupt\u001b[0m: "
     ]
    }
   ],
   "source": [
    "def clicar_meio():\n",
    "    return pg.click(x + largura/2 , y + altura/2)\n",
    "\n",
    "\n",
    "pg.alert('O sistema será iniciado. Não mexa na máquina e não interfira no processo.')\n",
    "\n",
    "\n",
    "pg.PAUSE=1\n",
    "t.sleep(0.5)\n",
    "pg.press('win')\n",
    "pg.write('microsoft edge')\n",
    "pg.press('enter')\n",
    "t.sleep(2)\n",
    "\n",
    "\n",
    "for i in range(3):\n",
    "\n",
    "    #criação de nomes, emails padronizados e senhas\n",
    "    adaptar = lambda item: item[0]\n",
    "    nome_completo = []\n",
    "    nome1 = random.choice(primeiro_nome)\n",
    "    nome2 = random.choice(segundo_nome)\n",
    "    nome_completo.append((nome1, nome2))\n",
    "\n",
    "    nome_completo = adaptar(nome_completo)\n",
    "    dg_rec = [random.choice(digitos_reconhecimento) for a in digitos_reconhecimento]\n",
    "    dg_rec = dg_rec[:3]\n",
    "    dg_rec = '.'.join(map(str,dg_rec))\n",
    "\n",
    "    \n",
    "    email = f'{nome2}.{nome1}{dg_rec}{i+1}r'\n",
    "    senha = 'SenhaDoRobo159'\n",
    "    \n",
    "    mensagem = random.choice(mensagens)\n",
    "\n",
    "\n",
    "\n",
    "    pg.hotkey('ctrl','shift','n')\n",
    "    t.sleep(2)\n",
    "    \n",
    "    pg.write('gmail')\n",
    "    pg.press('enter')\n",
    "    t.sleep(1)\n",
    "\n",
    "\n",
    "    pg.click(245,322)\n",
    "    t.sleep(5)\n",
    "\n",
    "\n",
    "    item = pg.locateOnScreen('criarumaconta.png', confidence=0.7)\n",
    "    while not item:\n",
    "        t.sleep(0.5)    \n",
    "    x,y,largura,altura = item\n",
    "    clicar_meio()\n",
    "\n",
    "    t.sleep(3)\n",
    "    pg.write(nome_completo[0])\n",
    "    pg.press('tab')\n",
    "    pg.write(nome_completo[1])\n",
    "    t.sleep(1.5)\n",
    "    pg.press('tab')\n",
    "    pg.write(email)\n",
    "    \n",
    "    item = pg.locateOnScreen('simbolodasenha.png', confidence=0.7)\n",
    "    x,y,largura,altura = item\n",
    "    clicar_meio()\n",
    "    \n",
    "    pg.write(senha)\n",
    "    pg.press('tab')\n",
    "    pg.write(senha)\n",
    "    pg.press('tab')\n",
    "    pg.press('tab')\n",
    "    pg.press('enter')\n",
    "    \n",
    "    \n",
    "    \n",
    "    #não terminado\n",
    "\n",
    "pg.hotkey('ctrl','t')\n",
    "pg.write('https://g.page/r/CdLZhDWNj3sMEAI/review')\n",
    "pg.press('enter')\n",
    "\n",
    "\n",
    "while not pg.locateonscreen('imagem(\"conte...\").ext', confidence=0.7):\n",
    "    t.sleep(1)\n",
    "clicar_meio()\n",
    "\n",
    "\n",
    "pg.write(random.choice(mensagens))\n",
    "t.sleep(1)\n",
    "\n",
    "pg.press('tab')\n",
    "pg.press('tab')\n",
    "pg.press('tab')\n",
    "pg.press('enter')\n",
    "\n",
    "pg.alert('Máquina Liberada.')"
   ]
  },
  {
   "cell_type": "code",
   "execution_count": 17,
   "id": "eaaa4349",
   "metadata": {},
   "outputs": [
    {
     "data": {
      "text/plain": [
       "Point(x=449, y=495)"
      ]
     },
     "execution_count": 17,
     "metadata": {},
     "output_type": "execute_result"
    }
   ],
   "source": [
    "pg.position()"
   ]
  }
 ],
 "metadata": {
  "kernelspec": {
   "display_name": "Python 3.9.12 ('base')",
   "language": "python",
   "name": "python3"
  },
  "language_info": {
   "codemirror_mode": {
    "name": "ipython",
    "version": 3
   },
   "file_extension": ".py",
   "mimetype": "text/x-python",
   "name": "python",
   "nbconvert_exporter": "python",
   "pygments_lexer": "ipython3",
   "version": "3.9.12"
  },
  "vscode": {
   "interpreter": {
    "hash": "665796ea3363072d3a6057ac2fdbe3c4fcb0d17a4b92295d9707f78e9c46c0af"
   }
  }
 },
 "nbformat": 4,
 "nbformat_minor": 5
}
